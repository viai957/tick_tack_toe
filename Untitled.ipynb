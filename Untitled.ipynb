{
 "cells": [
  {
   "cell_type": "raw",
   "metadata": {},
   "source": [
    "##tick tack toe"
   ]
  },
  {
   "cell_type": "code",
   "execution_count": 19,
   "metadata": {},
   "outputs": [],
   "source": [
    "import numpy as np\n",
    "import pickle"
   ]
  },
  {
   "cell_type": "code",
   "execution_count": 20,
   "metadata": {},
   "outputs": [],
   "source": [
    "# human interface\n",
    "# input a number to put a chessman\n",
    "# | q | w | e |\n",
    "# | a | s | d |\n",
    "# | z | x | c |"
   ]
  },
  {
   "cell_type": "code",
   "execution_count": 21,
   "metadata": {},
   "outputs": [],
   "source": [
    "BOARD_ROWS = 3\n",
    "BOARD_COLS = 3\n",
    "BOARD_SIZE = BOARD_ROWS * BOARD_COLS"
   ]
  },
  {
   "cell_type": "code",
   "execution_count": 22,
   "metadata": {},
   "outputs": [],
   "source": [
    "class State:\n",
    "    def __init__(self):\n",
    "        # the board is represented by an n * n array,\n",
    "        # 1 represents a chessman of the player who moves first,\n",
    "        # -1 represents a chessman of another player\n",
    "        # 0 represents an empty position\n",
    "        self.data = np.zeros((BOARD_ROWS, BOARD_COLS))\n",
    "        self.winner =  None\n",
    "        self.hash_val = None\n",
    "        self.end = None\n",
    "        \n",
    "        \n",
    "    # compute the hash value for one state, its unique\n",
    "    def hash(self):\n",
    "        if self.hash_value is None:\n",
    "            self.hash_val = 0\n",
    "            for i in np.nditer(self.data):\n",
    "                self.hash_val = self.hash_val * 3 + i + 1\n",
    "        return self.hash_val\n",
    "    \n",
    "    # check whether a player has won he game, or it's  tie\n",
    "    def is_end(self):\n",
    "        if self.end is not None:\n",
    "            return self.end\n",
    "        results = []\n",
    "        \n",
    "        # check row \n",
    "        for i in range(BOARD_ROWS):\n",
    "            results.append(np.sum(self.data[i, :]))\n",
    "        \n",
    "        # check for columns\n",
    "        for i in range(BOARD_COLS):\n",
    "            results.append(np.sum(self.data[:, i]))\n",
    "            \n",
    "        # check diagonal\n",
    "        trace = 0\n",
    "        reverse_trace = 0\n",
    "        for i in range(BOARD_ROWS):\n",
    "            trace += self.data[i,i]\n",
    "            reverse_trace += self.data[i, BOARD_ROWS - 1 - i]\n",
    "        results.append(trace)\n",
    "        results.append(reverse_trace)\n",
    "        \n",
    "        for result in results:\n",
    "            if result == 3:\n",
    "                self.winner = 1\n",
    "                self.end = True\n",
    "                return self.end\n",
    "            if result == -3:\n",
    "                self.winner = -1\n",
    "                self.end = True\n",
    "                return self.end\n",
    "            \n",
    "        # wheter it's a tie\n",
    "        sum_values = np.sum(np.abs(self.data))\n",
    "        if sum_values == BOARD_SIZE:\n",
    "            self.winner = 0\n",
    "            self.end = True\n",
    "            return self.end\n",
    "        \n",
    "        # game is still going\n",
    "        self.end = False\n",
    "        return self.end\n",
    "        \n",
    "        # @symbol: 1 or -1\n",
    "        # put chessman symbol in position (i,j)\n",
    "        def next_state(self, i, j, symbol):\n",
    "            new_state = State()\n",
    "            new_state.data = np.copy(self.data)\n",
    "            new_state.data[i,j] = symbol\n",
    "            return new_state\n",
    "        \n",
    "        # print the board\n",
    "        def print_state(self):\n",
    "            for i in range(BOARD_ROWS):\n",
    "                print('--------------')\n",
    "                out = '|'\n",
    "                for j in range(BOARD_COLS):\n",
    "                    if self.data[i,j] == 1:\n",
    "                        token = '*'\n",
    "                    elif self.data[i,j] == -1:\n",
    "                        token = 'x'\n",
    "                    else:\n",
    "                        token = '0'\n",
    "                    out += token + '|'\n",
    "                print(out)\n",
    "            print('--------------')\n",
    "            "
   ]
  },
  {
   "cell_type": "code",
   "execution_count": 23,
   "metadata": {},
   "outputs": [],
   "source": [
    "def get_all_states_impl(current_state, current_symbol, all_states):\n",
    "    for i in range(BOARD_ROWS):\n",
    "        for j in range(BOARD_COLS):\n",
    "            if current_state.data[i][j] == 0:\n",
    "                new_state = current_state.next_state(i, j, current_symbol)\n",
    "                new_hash = new_state.hash()\n",
    "                if new_hash not in all_states:\n",
    "                    is_end = new_state.is_end()\n",
    "                    all_states[new_hash] = (new_state, is_end)\n",
    "                    if not is_end:\n",
    "                        get_all_states_impl(new_state, -current_symbol, all_states)\n",
    "\n",
    "def get_all_states():\n",
    "    current_symbol = 1\n",
    "    current_state = State()\n",
    "    all_state = dict()\n",
    "    all_states[current_state.hash()] = (current_state, current_state.is_end())\n",
    "    get_all_states_impl(current_state, current_symbol, all_states)\n",
    "    return all_states\n",
    "\n",
    "# all possible board configuration\n",
    "all_states = get_all_states()\n",
    "\n",
    "\n",
    "class Judge:\n",
    "    # @player1: the  player who will move first, its chessman will be 1\n",
    "    # @player2: another player with aa chessman -1\n",
    "    def __init__(self, player1, player2):\n",
    "        self.p1 = player1\n",
    "        self.p2 = player2\n",
    "        self.current_player = None\n",
    "        self.p1_symbol = 1\n",
    "        self.p2_symbol = -1\n",
    "        "
   ]
  },
  {
   "cell_type": "code",
   "execution_count": 24,
   "metadata": {},
   "outputs": [],
   "source": [
    "import numpy as np\n",
    "x = np.random.normal(size=12)\n",
    "for i in np.nditer(x):\n",
    "    np = x*3+i+1"
   ]
  },
  {
   "cell_type": "code",
   "execution_count": 25,
   "metadata": {},
   "outputs": [
    {
     "data": {
      "text/plain": [
       "array([-0.44495603,  0.27630832, -1.85413325,  1.13061516,  1.11765228,\n",
       "       -1.36684832, -0.65374322, -0.23432164, -1.3876635 ,  0.27501018,\n",
       "        0.54813918, -1.17666704])"
      ]
     },
     "execution_count": 25,
     "metadata": {},
     "output_type": "execute_result"
    }
   ],
   "source": [
    "x"
   ]
  },
  {
   "cell_type": "code",
   "execution_count": 26,
   "metadata": {},
   "outputs": [
    {
     "data": {
      "text/plain": [
       "array([-1.51153514,  0.6522579 , -5.73906678,  3.21517843,  3.17628979,\n",
       "       -4.27721199, -2.13789669, -0.87963196, -4.33965753,  0.6483635 ,\n",
       "        1.46775051, -3.70666817])"
      ]
     },
     "execution_count": 26,
     "metadata": {},
     "output_type": "execute_result"
    }
   ],
   "source": [
    "np"
   ]
  },
  {
   "cell_type": "code",
   "execution_count": 27,
   "metadata": {},
   "outputs": [],
   "source": [
    "for i in range(0,1):\n",
    "    x = i+2"
   ]
  },
  {
   "cell_type": "code",
   "execution_count": 28,
   "metadata": {},
   "outputs": [
    {
     "data": {
      "text/plain": [
       "2"
      ]
     },
     "execution_count": 28,
     "metadata": {},
     "output_type": "execute_result"
    }
   ],
   "source": [
    "x"
   ]
  },
  {
   "cell_type": "code",
   "execution_count": 29,
   "metadata": {},
   "outputs": [
    {
     "data": {
      "text/plain": [
       "array([[83, 40, 22, 89, 93, 32, 34, 66, 63, 29]])"
      ]
     },
     "execution_count": 29,
     "metadata": {},
     "output_type": "execute_result"
    }
   ],
   "source": [
    "from numpy import random\n",
    "\n",
    "y = random.randint(100, size=(1,10))\n",
    "\n",
    "y"
   ]
  },
  {
   "cell_type": "code",
   "execution_count": 30,
   "metadata": {},
   "outputs": [
    {
     "ename": "SyntaxError",
     "evalue": "invalid syntax (<ipython-input-30-fad5545fd930>, line 1)",
     "output_type": "error",
     "traceback": [
      "\u001b[1;36m  File \u001b[1;32m\"<ipython-input-30-fad5545fd930>\"\u001b[1;36m, line \u001b[1;32m1\u001b[0m\n\u001b[1;33m    trace = [][]\u001b[0m\n\u001b[1;37m               ^\u001b[0m\n\u001b[1;31mSyntaxError\u001b[0m\u001b[1;31m:\u001b[0m invalid syntax\n"
     ]
    }
   ],
   "source": [
    "trace = [][]\n",
    "for i in y:\n",
    "    trace += y[i,i]"
   ]
  },
  {
   "cell_type": "code",
   "execution_count": 31,
   "metadata": {},
   "outputs": [
    {
     "ename": "AttributeError",
     "evalue": "'numpy.ndarray' object has no attribute 'abs'",
     "output_type": "error",
     "traceback": [
      "\u001b[1;31m---------------------------------------------------------------------------\u001b[0m",
      "\u001b[1;31mAttributeError\u001b[0m                            Traceback (most recent call last)",
      "\u001b[1;32m<ipython-input-31-f7fd1862418b>\u001b[0m in \u001b[0;36m<module>\u001b[1;34m\u001b[0m\n\u001b[1;32m----> 1\u001b[1;33m \u001b[0msum_values\u001b[0m \u001b[1;33m=\u001b[0m \u001b[0mnp\u001b[0m\u001b[1;33m.\u001b[0m\u001b[0msum\u001b[0m\u001b[1;33m(\u001b[0m\u001b[0mnp\u001b[0m\u001b[1;33m.\u001b[0m\u001b[0mabs\u001b[0m\u001b[1;33m(\u001b[0m\u001b[0mself\u001b[0m\u001b[1;33m.\u001b[0m\u001b[0mdata\u001b[0m\u001b[1;33m)\u001b[0m\u001b[1;33m)\u001b[0m\u001b[1;33m\u001b[0m\u001b[1;33m\u001b[0m\u001b[0m\n\u001b[0m\u001b[0;32m      2\u001b[0m \u001b[1;32mif\u001b[0m \u001b[0msum_values\u001b[0m \u001b[1;33m==\u001b[0m \u001b[0mBOARD_SIZE\u001b[0m\u001b[1;33m:\u001b[0m\u001b[1;33m\u001b[0m\u001b[1;33m\u001b[0m\u001b[0m\n\u001b[0;32m      3\u001b[0m     \u001b[0mself\u001b[0m\u001b[1;33m.\u001b[0m\u001b[0mwinner\u001b[0m \u001b[1;33m=\u001b[0m \u001b[1;36m0\u001b[0m\u001b[1;33m\u001b[0m\u001b[1;33m\u001b[0m\u001b[0m\n\u001b[0;32m      4\u001b[0m     \u001b[0mself\u001b[0m\u001b[1;33m.\u001b[0m\u001b[0mend\u001b[0m \u001b[1;33m=\u001b[0m \u001b[1;32mTrue\u001b[0m\u001b[1;33m\u001b[0m\u001b[1;33m\u001b[0m\u001b[0m\n\u001b[0;32m      5\u001b[0m     \u001b[1;32mreturn\u001b[0m \u001b[0mself\u001b[0m\u001b[1;33m.\u001b[0m\u001b[0mend\u001b[0m\u001b[1;33m\u001b[0m\u001b[1;33m\u001b[0m\u001b[0m\n",
      "\u001b[1;31mAttributeError\u001b[0m: 'numpy.ndarray' object has no attribute 'abs'"
     ]
    }
   ],
   "source": [
    "sum_values = np.sum(np.abs(self.data))\n",
    "if sum_values == BOARD_SIZE:\n",
    "    self.winner = 0\n",
    "    self.end = True\n",
    "    return self.end\n",
    "# wheter it's a tie\n",
    "sum_values = np.sum(n)"
   ]
  },
  {
   "cell_type": "code",
   "execution_count": 32,
   "metadata": {},
   "outputs": [
    {
     "ename": "AttributeError",
     "evalue": "'numpy.ndarray' object has no attribute 'zeros'",
     "output_type": "error",
     "traceback": [
      "\u001b[1;31m---------------------------------------------------------------------------\u001b[0m",
      "\u001b[1;31mAttributeError\u001b[0m                            Traceback (most recent call last)",
      "\u001b[1;32m<ipython-input-32-04f2d032f0c5>\u001b[0m in \u001b[0;36m<module>\u001b[1;34m\u001b[0m\n\u001b[1;32m----> 1\u001b[1;33m \u001b[0mdata\u001b[0m \u001b[1;33m=\u001b[0m \u001b[0mnp\u001b[0m\u001b[1;33m.\u001b[0m\u001b[0mzeros\u001b[0m\u001b[1;33m(\u001b[0m\u001b[1;33m(\u001b[0m\u001b[0mBOARD_ROWS\u001b[0m\u001b[1;33m,\u001b[0m \u001b[0mBOARD_COLS\u001b[0m\u001b[1;33m)\u001b[0m\u001b[1;33m)\u001b[0m\u001b[1;33m\u001b[0m\u001b[1;33m\u001b[0m\u001b[0m\n\u001b[0m\u001b[0;32m      2\u001b[0m \u001b[0mdata\u001b[0m\u001b[1;33m\u001b[0m\u001b[1;33m\u001b[0m\u001b[0m\n",
      "\u001b[1;31mAttributeError\u001b[0m: 'numpy.ndarray' object has no attribute 'zeros'"
     ]
    }
   ],
   "source": [
    "data = np.zeros((BOARD_ROWS, BOARD_COLS))\n",
    "data"
   ]
  },
  {
   "cell_type": "code",
   "execution_count": 33,
   "metadata": {},
   "outputs": [
    {
     "ename": "NameError",
     "evalue": "name 'data' is not defined",
     "output_type": "error",
     "traceback": [
      "\u001b[1;31m---------------------------------------------------------------------------\u001b[0m",
      "\u001b[1;31mNameError\u001b[0m                                 Traceback (most recent call last)",
      "\u001b[1;32m<ipython-input-33-1b85bf160687>\u001b[0m in \u001b[0;36m<module>\u001b[1;34m\u001b[0m\n\u001b[0;32m      2\u001b[0m \u001b[0mhash_value\u001b[0m \u001b[1;33m=\u001b[0m \u001b[1;36m0\u001b[0m\u001b[1;33m\u001b[0m\u001b[1;33m\u001b[0m\u001b[0m\n\u001b[0;32m      3\u001b[0m \u001b[1;33m\u001b[0m\u001b[0m\n\u001b[1;32m----> 4\u001b[1;33m \u001b[1;32mfor\u001b[0m \u001b[0mi\u001b[0m \u001b[1;32min\u001b[0m \u001b[0mnp\u001b[0m\u001b[1;33m.\u001b[0m\u001b[0mnditer\u001b[0m\u001b[1;33m(\u001b[0m\u001b[0mdata\u001b[0m\u001b[1;33m)\u001b[0m\u001b[1;33m:\u001b[0m\u001b[1;33m\u001b[0m\u001b[1;33m\u001b[0m\u001b[0m\n\u001b[0m\u001b[0;32m      5\u001b[0m     \u001b[0mhash_value\u001b[0m \u001b[1;33m=\u001b[0m \u001b[0mhash_value\u001b[0m \u001b[1;33m*\u001b[0m \u001b[1;36m3\u001b[0m \u001b[1;33m+\u001b[0m \u001b[0mi\u001b[0m \u001b[1;33m+\u001b[0m \u001b[1;36m1\u001b[0m\u001b[1;33m\u001b[0m\u001b[1;33m\u001b[0m\u001b[0m\n\u001b[0;32m      6\u001b[0m \u001b[1;33m\u001b[0m\u001b[0m\n",
      "\u001b[1;31mNameError\u001b[0m: name 'data' is not defined"
     ]
    }
   ],
   "source": [
    "import numpy as np\n",
    "hash_value = 0\n",
    "\n",
    "for i in np.nditer(data):\n",
    "    hash_value = hash_value * 3 + i + 1\n",
    "\n",
    "hash_value"
   ]
  },
  {
   "cell_type": "code",
   "execution_count": 34,
   "metadata": {},
   "outputs": [
    {
     "ename": "SyntaxError",
     "evalue": "unexpected EOF while parsing (<ipython-input-34-b6e980a259a6>, line 9)",
     "output_type": "error",
     "traceback": [
      "\u001b[1;36m  File \u001b[1;32m\"<ipython-input-34-b6e980a259a6>\"\u001b[1;36m, line \u001b[1;32m9\u001b[0m\n\u001b[1;33m    results.append(np.sum(self.data[:])\u001b[0m\n\u001b[1;37m                                       ^\u001b[0m\n\u001b[1;31mSyntaxError\u001b[0m\u001b[1;31m:\u001b[0m unexpected EOF while parsing\n"
     ]
    }
   ],
   "source": [
    "def is_end(self):\n",
    "    if self.end is not None:\n",
    "        return self.end\n",
    "    results = []\n",
    "    # check now\n",
    "    for i in range(BOARD_ROWS):\n",
    "        results.append(np.sum(self.data[i,:]))\n",
    "    for i in range(BOARD_COLS):\n",
    "        results.append(np.sum(self.data[:])"
   ]
  },
  {
   "cell_type": "code",
   "execution_count": 35,
   "metadata": {},
   "outputs": [
    {
     "name": "stdout",
     "output_type": "stream",
     "text": [
      "{'commit_hash': '2486838d9',\n",
      " 'commit_source': 'installation',\n",
      " 'default_encoding': 'cp1252',\n",
      " 'ipython_path': 'C:\\\\Users\\\\vigne\\\\anaconda3\\\\Lib\\\\site-packages\\\\IPython',\n",
      " 'ipython_version': '7.16.1',\n",
      " 'os_name': 'nt',\n",
      " 'platform': 'Windows-10-10.0.19041-SP0',\n",
      " 'sys_executable': 'C:\\\\Users\\\\vigne\\\\anaconda3\\\\python.exe',\n",
      " 'sys_platform': 'win32',\n",
      " 'sys_version': '3.8.3 (default, Jul  2 2020, 17:30:36) [MSC v.1916 64 bit '\n",
      "                '(AMD64)]'}\n"
     ]
    }
   ],
   "source": [
    "import IPython\n",
    "print(IPython.sys_info())"
   ]
  },
  {
   "cell_type": "code",
   "execution_count": 36,
   "metadata": {},
   "outputs": [
    {
     "name": "stdout",
     "output_type": "stream",
     "text": [
      "Requirement already satisfied: jupyter-kite in c:\\users\\vigne\\anaconda3\\lib\\site-packages (1.2.0)\n",
      "Requirement already satisfied: setuptools in c:\\users\\vigne\\anaconda3\\lib\\site-packages (from jupyter-kite) (49.2.0.post20200714)\n",
      "Requirement already satisfied: tornado>=5.1.0 in c:\\users\\vigne\\anaconda3\\lib\\site-packages (from jupyter-kite) (6.0.4)\n",
      "Requirement already satisfied: notebook>=4.3.1 in c:\\users\\vigne\\anaconda3\\lib\\site-packages (from jupyter-kite) (6.0.3)\n",
      "Requirement already satisfied: jinja2 in c:\\users\\vigne\\anaconda3\\lib\\site-packages (from notebook>=4.3.1->jupyter-kite) (2.11.2)\n",
      "Requirement already satisfied: pyzmq>=17 in c:\\users\\vigne\\anaconda3\\lib\\site-packages (from notebook>=4.3.1->jupyter-kite) (19.0.1)\n",
      "Requirement already satisfied: traitlets>=4.2.1 in c:\\users\\vigne\\anaconda3\\lib\\site-packages (from notebook>=4.3.1->jupyter-kite) (4.3.3)\n",
      "Requirement already satisfied: Send2Trash in c:\\users\\vigne\\anaconda3\\lib\\site-packages (from notebook>=4.3.1->jupyter-kite) (1.5.0)\n",
      "Requirement already satisfied: ipython-genutils in c:\\users\\vigne\\anaconda3\\lib\\site-packages (from notebook>=4.3.1->jupyter-kite) (0.2.0)\n",
      "Requirement already satisfied: ipykernel in c:\\users\\vigne\\anaconda3\\lib\\site-packages (from notebook>=4.3.1->jupyter-kite) (5.3.2)\n",
      "Requirement already satisfied: terminado>=0.8.1 in c:\\users\\vigne\\anaconda3\\lib\\site-packages (from notebook>=4.3.1->jupyter-kite) (0.8.3)\n",
      "Requirement already satisfied: prometheus-client in c:\\users\\vigne\\anaconda3\\lib\\site-packages (from notebook>=4.3.1->jupyter-kite) (0.8.0)\n",
      "Requirement already satisfied: jupyter-core>=4.6.1 in c:\\users\\vigne\\anaconda3\\lib\\site-packages (from notebook>=4.3.1->jupyter-kite) (4.6.3)\n",
      "Requirement already satisfied: nbconvert in c:\\users\\vigne\\anaconda3\\lib\\site-packages (from notebook>=4.3.1->jupyter-kite) (5.6.1)\n",
      "Requirement already satisfied: jupyter-client>=5.3.4 in c:\\users\\vigne\\anaconda3\\lib\\site-packages (from notebook>=4.3.1->jupyter-kite) (6.1.6)\n",
      "Requirement already satisfied: nbformat in c:\\users\\vigne\\anaconda3\\lib\\site-packages (from notebook>=4.3.1->jupyter-kite) (5.0.7)\n",
      "Requirement already satisfied: MarkupSafe>=0.23 in c:\\users\\vigne\\anaconda3\\lib\\site-packages (from jinja2->notebook>=4.3.1->jupyter-kite) (1.1.1)\n",
      "Requirement already satisfied: six in c:\\users\\vigne\\anaconda3\\lib\\site-packages (from traitlets>=4.2.1->notebook>=4.3.1->jupyter-kite) (1.15.0)\n",
      "Requirement already satisfied: decorator in c:\\users\\vigne\\anaconda3\\lib\\site-packages (from traitlets>=4.2.1->notebook>=4.3.1->jupyter-kite) (4.4.2)\n",
      "Requirement already satisfied: ipython>=5.0.0 in c:\\users\\vigne\\anaconda3\\lib\\site-packages (from ipykernel->notebook>=4.3.1->jupyter-kite) (7.16.1)\n",
      "Requirement already satisfied: pywin32>=1.0; sys_platform == \"win32\" in c:\\users\\vigne\\anaconda3\\lib\\site-packages (from jupyter-core>=4.6.1->notebook>=4.3.1->jupyter-kite) (227)\n",
      "Requirement already satisfied: bleach in c:\\users\\vigne\\anaconda3\\lib\\site-packages (from nbconvert->notebook>=4.3.1->jupyter-kite) (3.1.5)\n",
      "Requirement already satisfied: defusedxml in c:\\users\\vigne\\anaconda3\\lib\\site-packages (from nbconvert->notebook>=4.3.1->jupyter-kite) (0.6.0)\n",
      "Requirement already satisfied: pygments in c:\\users\\vigne\\anaconda3\\lib\\site-packages (from nbconvert->notebook>=4.3.1->jupyter-kite) (2.6.1)\n",
      "Requirement already satisfied: pandocfilters>=1.4.1 in c:\\users\\vigne\\anaconda3\\lib\\site-packages (from nbconvert->notebook>=4.3.1->jupyter-kite) (1.4.2)\n",
      "Requirement already satisfied: testpath in c:\\users\\vigne\\anaconda3\\lib\\site-packages (from nbconvert->notebook>=4.3.1->jupyter-kite) (0.4.4)\n",
      "Requirement already satisfied: entrypoints>=0.2.2 in c:\\users\\vigne\\anaconda3\\lib\\site-packages (from nbconvert->notebook>=4.3.1->jupyter-kite) (0.3)\n",
      "Requirement already satisfied: mistune<2,>=0.8.1 in c:\\users\\vigne\\anaconda3\\lib\\site-packages (from nbconvert->notebook>=4.3.1->jupyter-kite) (0.8.4)\n",
      "Requirement already satisfied: python-dateutil>=2.1 in c:\\users\\vigne\\anaconda3\\lib\\site-packages (from jupyter-client>=5.3.4->notebook>=4.3.1->jupyter-kite) (2.8.1)\n",
      "Requirement already satisfied: jsonschema!=2.5.0,>=2.4 in c:\\users\\vigne\\anaconda3\\lib\\site-packages (from nbformat->notebook>=4.3.1->jupyter-kite) (3.2.0)\n",
      "Requirement already satisfied: prompt-toolkit!=3.0.0,!=3.0.1,<3.1.0,>=2.0.0 in c:\\users\\vigne\\anaconda3\\lib\\site-packages (from ipython>=5.0.0->ipykernel->notebook>=4.3.1->jupyter-kite) (3.0.5)\n",
      "Requirement already satisfied: colorama; sys_platform == \"win32\" in c:\\users\\vigne\\anaconda3\\lib\\site-packages (from ipython>=5.0.0->ipykernel->notebook>=4.3.1->jupyter-kite) (0.4.3)\n",
      "Requirement already satisfied: jedi>=0.10 in c:\\users\\vigne\\anaconda3\\lib\\site-packages (from ipython>=5.0.0->ipykernel->notebook>=4.3.1->jupyter-kite) (0.17.1)\n",
      "Requirement already satisfied: pickleshare in c:\\users\\vigne\\anaconda3\\lib\\site-packages (from ipython>=5.0.0->ipykernel->notebook>=4.3.1->jupyter-kite) (0.7.5)\n",
      "Requirement already satisfied: backcall in c:\\users\\vigne\\anaconda3\\lib\\site-packages (from ipython>=5.0.0->ipykernel->notebook>=4.3.1->jupyter-kite) (0.2.0)\n",
      "Requirement already satisfied: webencodings in c:\\users\\vigne\\anaconda3\\lib\\site-packages (from bleach->nbconvert->notebook>=4.3.1->jupyter-kite) (0.5.1)\n",
      "Requirement already satisfied: packaging in c:\\users\\vigne\\anaconda3\\lib\\site-packages (from bleach->nbconvert->notebook>=4.3.1->jupyter-kite) (20.4)\n",
      "Requirement already satisfied: attrs>=17.4.0 in c:\\users\\vigne\\anaconda3\\lib\\site-packages (from jsonschema!=2.5.0,>=2.4->nbformat->notebook>=4.3.1->jupyter-kite) (19.3.0)\n",
      "Requirement already satisfied: pyrsistent>=0.14.0 in c:\\users\\vigne\\anaconda3\\lib\\site-packages (from jsonschema!=2.5.0,>=2.4->nbformat->notebook>=4.3.1->jupyter-kite) (0.16.0)\n",
      "Requirement already satisfied: wcwidth in c:\\users\\vigne\\anaconda3\\lib\\site-packages (from prompt-toolkit!=3.0.0,!=3.0.1,<3.1.0,>=2.0.0->ipython>=5.0.0->ipykernel->notebook>=4.3.1->jupyter-kite) (0.2.5)\n",
      "Requirement already satisfied: parso<0.8.0,>=0.7.0 in c:\\users\\vigne\\anaconda3\\lib\\site-packages (from jedi>=0.10->ipython>=5.0.0->ipykernel->notebook>=4.3.1->jupyter-kite) (0.7.0)\n",
      "Requirement already satisfied: pyparsing>=2.0.2 in c:\\users\\vigne\\anaconda3\\lib\\site-packages (from packaging->bleach->nbconvert->notebook>=4.3.1->jupyter-kite) (2.4.7)\n",
      "An error occured.\n",
      "ValueError: Please install Node.js and npm before continuing installation. You may be able to install Node.js from your package manager, from conda, or directly from the Node.js website (https://nodejs.org).\n",
      "See the log file for details:  C:\\Users\\vigne\\AppData\\Local\\Temp\\jupyterlab-debug-k2nq21mj.log\n"
     ]
    }
   ],
   "source": [
    "!pip install jupyter-kite\n",
    "!jupyter labextension install \"@kiteco/jupyterlab-kite\"\n"
   ]
  },
  {
   "cell_type": "code",
   "execution_count": null,
   "metadata": {},
   "outputs": [],
   "source": []
  },
  {
   "cell_type": "code",
   "execution_count": null,
   "metadata": {},
   "outputs": [],
   "source": []
  }
 ],
 "metadata": {
  "celltoolbar": "Raw Cell Format",
  "kernelspec": {
   "display_name": "Python 3",
   "language": "python",
   "name": "python3"
  },
  "language_info": {
   "codemirror_mode": {
    "name": "ipython",
    "version": 3
   },
   "file_extension": ".py",
   "mimetype": "text/x-python",
   "name": "python",
   "nbconvert_exporter": "python",
   "pygments_lexer": "ipython3",
   "version": "3.8.3"
  }
 },
 "nbformat": 4,
 "nbformat_minor": 4
}
